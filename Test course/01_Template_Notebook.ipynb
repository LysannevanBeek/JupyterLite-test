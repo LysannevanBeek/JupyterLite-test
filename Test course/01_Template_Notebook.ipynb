{
 "cells": [
  {
   "cell_type": "code",
   "execution_count": 1,
   "id": "central-entertainment",
   "metadata": {},
   "outputs": [
    {
     "data": {
      "text/html": [
       "<html>\n",
       "<link rel=\"stylesheet\" href=\"https://marysia.nl/assets/GDD/css/custom.css\">\n",
       "</html>"
      ],
      "text/plain": [
       "<IPython.core.display.HTML object>"
      ]
     },
     "execution_count": 1,
     "metadata": {},
     "output_type": "execute_result"
    }
   ],
   "source": [
    "# Optional: change Jupyter Notebook theme\n",
    "from IPython.core.display import HTML\n",
    "HTML(url='https://gdd.li/jupyter-theme')"
   ]
  },
  {
   "cell_type": "markdown",
   "id": "prompt-threshold",
   "metadata": {},
   "source": [
    "<img src=images/logo.png width=300px>\n",
    "\n",
    "# Title of the notebook (#)\n",
    "\n",
    "Lorem ipsum dolor sit amet, [consectetur](https://www.youtube.com/watch?v=dQw4w9WgXcQ) adipiscing elit, sed do eiusmod tempor incididunt ut labore et dolore magna aliqua. Ut enim ad minim veniam, quis nostrud exercitation ullamco laboris nisi ut aliquip ex ea commodo consequat. \n",
    "\n",
    "### Outline\n",
    "- [About the Data](#data)\n",
    "- [Topic 1](#topic1)\n",
    "    - [Subtopic 1](#subtopic1)\n",
    "- [Topic 2](#topic2)\n",
    "    - <mark style='background-color:#6C1D5F;color:white'>[Exercise 1](#ex1) </mark>\n",
    "- [Summary](summary)"
   ]
  },
  {
   "cell_type": "code",
   "execution_count": null,
   "id": "68984de9",
   "metadata": {},
   "outputs": [],
   "source": [
    "import pandas as pd\n",
    "import seaborn as sns"
   ]
  },
  {
   "cell_type": "markdown",
   "id": "94f3238e",
   "metadata": {},
   "source": [
    "<a id = 'data'></a>\n",
    "\n",
    "# About the Data (#)\n",
    "\n",
    "When talking about specific columns, refer to them like `this`. E.g. let's investigate the `species` column a little further.\n",
    "\n",
    "|Field|Description|\n",
    "|:---|:---|\n",
    "|species|The species of the penguin: Adelie, Chinstrap or Gentoo|\n",
    "|island|The island on which the penguin was spotted|\n",
    "|bill_length_mm|The length of the penguin's bill in mm|"
   ]
  },
  {
   "cell_type": "code",
   "execution_count": null,
   "id": "dc57e1a5",
   "metadata": {},
   "outputs": [],
   "source": [
    "# titanic_df = pd.read_csv('data/penguins.csv')"
   ]
  },
  {
   "cell_type": "markdown",
   "id": "914a9587",
   "metadata": {},
   "source": [
    "<a id = 'topic1'></a>\n",
    "\n",
    "# Topic 1 (#)\n",
    "\n",
    "When referring to methods/... use `this` notation as well. E.g. Let's talk about the `.mean()` method. "
   ]
  },
  {
   "cell_type": "code",
   "execution_count": null,
   "id": "d9de8809",
   "metadata": {},
   "outputs": [],
   "source": [
    "# cool code"
   ]
  },
  {
   "cell_type": "markdown",
   "id": "basic-buying",
   "metadata": {},
   "source": [
    "<mark style='background-color:#6C1D5F;color:white'>**Question:** What does the audience think is the answer?</mark>"
   ]
  },
  {
   "cell_type": "raw",
   "id": "1931601a",
   "metadata": {},
   "source": [
    "Answer:"
   ]
  },
  {
   "cell_type": "markdown",
   "id": "bc15d1f0",
   "metadata": {},
   "source": [
    "<details>\n",
    "    \n",
    "  <summary><span style=\"color:#6C1D5F;font-weight: 600\">Show answer</span></summary>\n",
    "  \n",
    "This is the answer\n",
    "\n",
    "</details>"
   ]
  },
  {
   "cell_type": "markdown",
   "id": "partial-nightmare",
   "metadata": {},
   "source": [
    "## Subtopic 1 (##)\n",
    "\n",
    "Lorem ipsum dolor sit amet, consectetur adipiscing elit, sed do eiusmod tempor incididunt ut labore et dolore magna aliqua. Ut enim ad minim veniam, quis nostrud exercitation ullamco laboris nisi ut aliquip ex ea commodo consequat."
   ]
  },
  {
   "cell_type": "code",
   "execution_count": null,
   "id": "3b1e183d",
   "metadata": {},
   "outputs": [],
   "source": [
    "# MAKE SURE TO COMMENT OUT CODE THAT WILL RESULT IN AN ERROR, E.G.\n",
    "\n",
    "# animals = [\"Nellie\", \"Ender\"]\n",
    "# for animal in animals:\n",
    "#     animal / 2"
   ]
  },
  {
   "cell_type": "markdown",
   "id": "tracked-material",
   "metadata": {},
   "source": [
    "<a id = 'topic2'></a>\n",
    "\n",
    "# Topic 2 (#)\n",
    "\n",
    "Lorem ipsum dolor sit amet, consectetur adipiscing elit, sed do eiusmod tempor incididunt ut labore et dolore magna aliqua. Ut enim ad minim veniam, quis nostrud exercitation ullamco laboris nisi ut aliquip ex ea commodo consequat. Duis aute irure dolor in reprehenderit in voluptate velit esse cillum dolore eu fugiat nulla pariatur. Excepteur sint occaecat cupidatat non proident, sunt in culpa qui officia deserunt mollit anim id est laborum"
   ]
  },
  {
   "cell_type": "markdown",
   "id": "invisible-reading",
   "metadata": {},
   "source": [
    "<a id = 'ex1'></a>\n",
    "## <mark style='background-color:#6C1D5F;color:white'>Exercise 1 (##)</mark>\n",
    "\n",
    "Lorem ipsum dolor sit amet, consectetur adipiscing elit, sed do eiusmod tempor incididunt ut labore et dolore magna aliqua. Ut enim ad minim veniam, quis nostrud exercitation ullamco laboris nisi ut aliquip ex ea commodo consequat. Duis aute irure dolor in reprehenderit in voluptate velit esse cillum dolore eu fugiat nulla pariatur. Excepteur sint occaecat cupidatat non proident, sunt in culpa qui officia deserunt mollit anim id est laborum\n",
    "\n",
    "**1. What is the answer to question 1?**"
   ]
  },
  {
   "cell_type": "code",
   "execution_count": null,
   "id": "accurate-poison",
   "metadata": {},
   "outputs": [],
   "source": [
    "# add your code"
   ]
  },
  {
   "cell_type": "raw",
   "id": "facial-lawrence",
   "metadata": {},
   "source": [
    "Answer: "
   ]
  },
  {
   "cell_type": "markdown",
   "id": "98cee302",
   "metadata": {},
   "source": [
    "**2. What is the answer to question 2?**"
   ]
  },
  {
   "cell_type": "code",
   "execution_count": null,
   "id": "0b0116aa",
   "metadata": {},
   "outputs": [],
   "source": [
    "# add your code"
   ]
  },
  {
   "cell_type": "markdown",
   "id": "45fca2f7",
   "metadata": {},
   "source": [
    "**<font color='blue'>Bonus Challenge</font>**\n",
    "\n",
    "What is the answer to this bonus challenge?"
   ]
  },
  {
   "cell_type": "code",
   "execution_count": null,
   "id": "d769b582",
   "metadata": {},
   "outputs": [],
   "source": [
    "# add your code"
   ]
  },
  {
   "cell_type": "markdown",
   "id": "eadad4c5",
   "metadata": {},
   "source": [
    "#### Answers (####)"
   ]
  },
  {
   "cell_type": "code",
   "execution_count": null,
   "id": "064a379a",
   "metadata": {},
   "outputs": [],
   "source": [
    "# %load answers/ex1.py"
   ]
  },
  {
   "cell_type": "code",
   "execution_count": null,
   "id": "0cfa4305",
   "metadata": {},
   "outputs": [],
   "source": [
    "# %load answers/ex2.py"
   ]
  },
  {
   "cell_type": "code",
   "execution_count": null,
   "id": "e85251b2",
   "metadata": {},
   "outputs": [],
   "source": [
    "# %load answers/bonus1.py"
   ]
  },
  {
   "cell_type": "markdown",
   "id": "thousand-neighborhood",
   "metadata": {},
   "source": [
    "# Summary (#)\n",
    "\n",
    "Lorem ipsum dolor sit amet, consectetur adipiscing elit, sed do eiusmod tempor incididunt ut labore et dolore magna aliqua. Ut enim ad minim veniam, quis nostrud exercitation ullamco laboris nisi ut aliquip ex ea commodo consequat. Duis aute irure dolor in reprehenderit in voluptate velit esse cillum dolore eu fugiat nulla pariatur. Excepteur sint occaecat cupidatat non proident, sunt in culpa qui officia deserunt mollit anim id est laborum"
   ]
  }
 ],
 "metadata": {
  "kernelspec": {
   "display_name": "Python 3 (ipykernel)",
   "language": "python",
   "name": "python3"
  },
  "language_info": {
   "codemirror_mode": {
    "name": "ipython",
    "version": 3
   },
   "file_extension": ".py",
   "mimetype": "text/x-python",
   "name": "python",
   "nbconvert_exporter": "python",
   "pygments_lexer": "ipython3",
   "version": "3.9.15"
  }
 },
 "nbformat": 4,
 "nbformat_minor": 5
}
